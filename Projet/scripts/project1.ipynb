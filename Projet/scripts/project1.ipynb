{
 "cells": [
  {
   "cell_type": "code",
   "execution_count": 2,
   "metadata": {},
   "outputs": [],
   "source": [
    "# Useful starting lines\n",
    "%matplotlib inline\n",
    "import numpy as np\n",
    "import matplotlib.pyplot as plt\n",
    "%load_ext autoreload\n",
    "%autoreload 2"
   ]
  },
  {
   "cell_type": "markdown",
   "metadata": {},
   "source": [
    "## Load the training data into feature matrix, class labels, and event ids:"
   ]
  },
  {
   "cell_type": "code",
   "execution_count": 10,
   "metadata": {},
   "outputs": [],
   "source": [
    "from proj1_helpers import *\n",
    "DATA_TRAIN_PATH = 'train.csv' # TODO: download train data and supply path here \n",
    "y, tX, ids = load_csv_data(DATA_TRAIN_PATH)"
   ]
  },
  {
   "cell_type": "markdown",
   "metadata": {},
   "source": [
    "## Calculate the weights with different methods"
   ]
  },
  {
   "cell_type": "code",
   "execution_count": 9,
   "metadata": {},
   "outputs": [],
   "source": [
    "from implementations import *"
   ]
  },
  {
   "cell_type": "code",
   "execution_count": 101,
   "metadata": {},
   "outputs": [],
   "source": [
    "# Initialization\n",
    "max_iters = 50\n",
    "gamma = 0.2\n",
    "lambda_=0.5\n",
    "initial_w= np.zeros(30)\n",
    "\n",
    "#Pour output un dossier .csv, assurez vous d'avoir train.csv et test.csv dans le même dossier que ce fichier\n",
    "#Remplacer weightsi par weights si vous voulez utiliser la méthode i (i \\in {1,2,3,4})\n",
    "#Lancer les deux dernières cellues, le dossier en output aura le titre submission.csv\n",
    "weights1,_=least_squares_GD(y,tX,initial_w,max_iters,gamma)\n",
    "weights2,_=least_squares_SGD(y,tX,initial_w,max_iters,gamma)\n",
    "weights3,_=least_squares(y,tX)\n",
    "weights4,_=ridge_regression(y,tX,lambda_)\n"
   ]
  },
  {
   "cell_type": "code",
   "execution_count": 106,
   "metadata": {},
   "outputs": [
    {
     "name": "stdout",
     "output_type": "stream",
     "text": [
      "[ 8.03494315e-05 -7.20202273e-03 -6.05417273e-03 -5.47559066e-04\n",
      " -1.93874702e-02  4.73451621e-04 -2.60379054e-02  3.25106300e-01\n",
      " -3.80780260e-05 -2.72729921e+00 -2.21220140e-01  9.50794092e-02\n",
      "  6.40351616e-02  2.73555889e+00 -3.31801229e-04 -9.54325120e-04\n",
      "  2.74031564e+00 -5.34164922e-04  9.73498609e-04  3.69225052e-03\n",
      "  3.54487428e-04 -5.43344599e-04 -3.30448035e-01 -1.40800497e-03\n",
      "  8.31432882e-04  1.02117272e-03 -1.68047416e-03 -5.83664815e-03\n",
      " -1.11087997e-02  2.72775915e+00]\n"
     ]
    }
   ],
   "source": [
    "print(weights3)"
   ]
  },
  {
   "cell_type": "markdown",
   "metadata": {},
   "source": [
    "## Generate predictions and save ouput in csv format for submission:"
   ]
  },
  {
   "cell_type": "code",
   "execution_count": 97,
   "metadata": {},
   "outputs": [],
   "source": [
    "DATA_TEST_PATH = 'test.csv' # TODO: download train data and supply path here \n",
    "_, tX_test, ids_test = load_csv_data(DATA_TEST_PATH)"
   ]
  },
  {
   "cell_type": "code",
   "execution_count": 98,
   "metadata": {},
   "outputs": [],
   "source": [
    "OUTPUT_PATH = 'submission.csv' # TODO: fill in desired name of output file for submission\n",
    "y_pred = predict_labels(weights, tX_test)\n",
    "create_csv_submission(ids_test, y_pred, OUTPUT_PATH)"
   ]
  }
 ],
 "metadata": {
  "anaconda-cloud": {},
  "kernelspec": {
   "display_name": "Python 3",
   "language": "python",
   "name": "python3"
  },
  "language_info": {
   "codemirror_mode": {
    "name": "ipython",
    "version": 3
   },
   "file_extension": ".py",
   "mimetype": "text/x-python",
   "name": "python",
   "nbconvert_exporter": "python",
   "pygments_lexer": "ipython3",
   "version": "3.8.3"
  }
 },
 "nbformat": 4,
 "nbformat_minor": 1
}
