{
 "cells": [
  {
   "cell_type": "code",
   "execution_count": 2,
   "metadata": {},
   "outputs": [],
   "source": [
    "# Useful starting lines\n",
    "%matplotlib inline\n",
    "import numpy as np\n",
    "import matplotlib.pyplot as plt\n",
    "%load_ext autoreload\n",
    "%autoreload 2"
   ]
  },
  {
   "cell_type": "markdown",
   "metadata": {},
   "source": [
    "## Load the training data into feature matrix, class labels, and event ids:"
   ]
  },
  {
   "cell_type": "code",
   "execution_count": 5,
   "metadata": {},
   "outputs": [],
   "source": [
    "from proj1_helpers import *\n",
    "DATA_TRAIN_PATH = 'train.csv' # TODO: download train data and supply path here \n",
    "y, tX, ids = load_csv_data(DATA_TRAIN_PATH)"
   ]
  },
  {
   "cell_type": "markdown",
   "metadata": {},
   "source": [
    "## Calculate the weights with different methods"
   ]
  },
  {
   "cell_type": "code",
   "execution_count": 6,
   "metadata": {},
   "outputs": [],
   "source": [
    "from implementations import *"
   ]
  },
  {
   "cell_type": "code",
   "execution_count": 25,
   "metadata": {},
   "outputs": [],
   "source": [
    "# Initialization\n",
    "max_iters = 50\n",
    "gamma = 0.2\n",
    "lambda_=0.5\n",
    "initial_w=np.zeros(30)\n",
    "\n",
    "#Pour output un dossier .csv, assurez vous d'avoir train.csv et test.csv dans le même dossier que ce fichier\n",
    "#Remplacer weightsi par weights si vous voulez utiliser la méthode i (i \\in {1,2,3,4})\n",
    "#Lancer les deux dernières cellues, le dossier en output aura le titre submission.csv\n",
    "weights,_=least_squares_GD(y,tX,initial_w,max_iters,gamma)\n",
    "#weights,_=least_squares_SGD(y,tX,initial_w,max_iters,gamma)\n",
    "#weights,_=least_squares(y,tX)\n",
    "#weights,_=ridge_regression(y,tX,lambda_)\n"
   ]
  },
  {
   "cell_type": "code",
   "execution_count": 26,
   "metadata": {},
   "outputs": [
    {
     "name": "stdout",
     "output_type": "stream",
     "text": [
      "[-5.12220179e+297  2.57704950e+297  3.88355865e+297  1.49490197e+297\n",
      " -4.82430314e+298 -4.90140651e+298 -4.82357220e+298  1.20759486e+296\n",
      "  6.92349957e+296  4.72850920e+297  6.67759306e+295 -2.37473633e+295\n",
      " -4.82399074e+298  1.67767227e+297 -7.69603207e+293 -5.99728445e+293\n",
      "  2.07366349e+297 -1.44094328e+294  2.05922743e+294  1.61975141e+297\n",
      " -8.42596941e+293  7.13844994e+297  1.60845526e+295 -2.88464038e+298\n",
      " -2.99087549e+298 -2.99090155e+298 -4.83064581e+298 -4.82392509e+298\n",
      " -4.82392603e+298  9.77173423e+296]\n"
     ]
    }
   ],
   "source": [
    "print(weights)"
   ]
  },
  {
   "cell_type": "markdown",
   "metadata": {},
   "source": [
    "## Generate predictions and save ouput in csv format for submission:"
   ]
  },
  {
   "cell_type": "code",
   "execution_count": 14,
   "metadata": {},
   "outputs": [],
   "source": [
    "DATA_TEST_PATH = 'test.csv' # TODO: download train data and supply path here \n",
    "_, tX_test, ids_test = load_csv_data(DATA_TEST_PATH)"
   ]
  },
  {
   "cell_type": "code",
   "execution_count": 15,
   "metadata": {},
   "outputs": [],
   "source": [
    "OUTPUT_PATH = 'submission.csv' # TODO: fill in desired name of output file for submission\n",
    "y_pred = predict_labels(weights, tX_test)\n",
    "create_csv_submission(ids_test, y_pred, OUTPUT_PATH)"
   ]
  },
  {
   "cell_type": "code",
   "execution_count": null,
   "metadata": {},
   "outputs": [],
   "source": []
  }
 ],
 "metadata": {
  "anaconda-cloud": {},
  "kernelspec": {
   "display_name": "Python 3",
   "language": "python",
   "name": "python3"
  },
  "language_info": {
   "codemirror_mode": {
    "name": "ipython",
    "version": 3
   },
   "file_extension": ".py",
   "mimetype": "text/x-python",
   "name": "python",
   "nbconvert_exporter": "python",
   "pygments_lexer": "ipython3",
   "version": "3.8.3"
  }
 },
 "nbformat": 4,
 "nbformat_minor": 1
}
