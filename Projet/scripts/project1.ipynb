{
 "cells": [
  {
   "cell_type": "code",
   "execution_count": 1,
   "metadata": {},
   "outputs": [],
   "source": [
    "# Useful starting lines\n",
    "%matplotlib inline\n",
    "import numpy as np\n",
    "import matplotlib.pyplot as plt\n",
    "%load_ext autoreload\n",
    "%autoreload 2"
   ]
  },
  {
   "cell_type": "markdown",
   "metadata": {},
   "source": [
    "## Load the training data into feature matrix, class labels, and event ids:"
   ]
  },
  {
   "cell_type": "code",
   "execution_count": 2,
   "metadata": {},
   "outputs": [],
   "source": [
    "from proj1_helpers import *\n",
    "from implementations import *\n",
    "from cross_validation import *\n",
    "from helper_implementations import *\n",
    "from standardization import *"
   ]
  },
  {
   "cell_type": "code",
   "execution_count": 3,
   "metadata": {},
   "outputs": [],
   "source": [
    "DATA_TRAIN_PATH = 'train.csv' # TODO: download train data and supply path here \n",
    "y, tX, ids = load_csv_data(DATA_TRAIN_PATH)"
   ]
  },
  {
   "cell_type": "code",
   "execution_count": 4,
   "metadata": {},
   "outputs": [],
   "source": [
    "tX,mean_x,std_x=standardize_x_tr(tX)"
   ]
  },
  {
   "cell_type": "code",
   "execution_count": 5,
   "metadata": {},
   "outputs": [
    {
     "name": "stdout",
     "output_type": "stream",
     "text": [
      "(250000,) (250000, 30)\n"
     ]
    }
   ],
   "source": [
    "print(y.shape,tX.shape)"
   ]
  },
  {
   "cell_type": "markdown",
   "metadata": {},
   "source": [
    "## Calculate the weights with different methods"
   ]
  },
  {
   "cell_type": "code",
   "execution_count": 37,
   "metadata": {},
   "outputs": [],
   "source": [
    "# Initialization\n",
    "max_iters = 50\n",
    "gamma = 0.3\n",
    "lambda_=0.3\n",
    "initial_w=np.zeros(31)\n",
    "k_fold=4\n",
    "x=build_poly(tX,3)\n",
    "#print(x.shape)\n",
    "#Pour output un dossier .csv, assurez vous d'avoir train.csv et test.csv dans le même dossier que ce fichier\n",
    "#Remplacer weightsi par weights si vous voulez utiliser la méthode i (i \\in {1,2,3,4})\n",
    "#Lancer les deux dernières cellues, le dossier en output aura le titre submission.csv\n",
    "#weights,_=least_squares_GD(y,x,initial_w,max_iters,gamma)\n",
    "#weights,_=least_squares_SGD(y,x,initial_w,max_iters,gamma)\n",
    "#weights,_=least_squares(y,x)\n",
    "weights,_=ridge_regression(y,x,lambda_)\n",
    "#degree,gamma=cross_validation_GD_SGD(y, tX, k_fold,5,np.logspace(-3, -1, 20), max_iters,'SGD')\n",
    "#a=cross_validation_LS(y,tX,k_fold,8)\n",
    "#d,l=cross_validation_RR(y, tX, k_fold, 10, np.logspace(-3, 0, 30))\n"
   ]
  },
  {
   "cell_type": "code",
   "execution_count": 38,
   "metadata": {},
   "outputs": [
    {
     "name": "stdout",
     "output_type": "stream",
     "text": [
      "[-3.60584549e-02  5.11310264e-02 -1.37500299e-01  1.78177398e-02\n",
      "  3.30060567e-02  1.39441617e-02  1.32479007e-02 -1.65051529e-02\n",
      "  3.76933133e-02 -1.11183641e-02  3.70444957e-02 -7.28947569e-02\n",
      "  4.15803453e-02  1.30112928e-02  9.92810232e-02 -7.19441676e-04\n",
      " -7.11736800e-04  9.75958958e-03  7.29551280e-04 -1.18301970e-05\n",
      " -1.58262327e-02  1.38088844e-03  2.05100929e-02  4.78544427e-03\n",
      "  3.25153983e-02 -1.39793211e-03 -3.60664089e-04  9.44213733e-03\n",
      "  9.67260532e-05 -7.12327777e-04  1.88320619e-02 -5.47790162e-02\n",
      "  2.16185843e-02 -2.25680791e-02  2.85770651e-02  2.66413124e-02\n",
      "  7.77655709e-03  5.26097468e-04 -4.45802154e-02  6.15056834e-04\n",
      " -1.04946821e-02  1.00037807e-02 -1.17440314e-04  1.57348053e-03\n",
      " -1.02674523e-02 -4.22309213e-02 -2.54361130e-02  3.04625549e-03\n",
      " -5.90879238e-02 -2.84593687e-02  1.52238156e-02 -2.32633374e-02\n",
      " -2.72380861e-02 -2.67377239e-02 -2.19241822e-02  4.11634955e-02\n",
      " -2.51600463e-02  1.67292006e-04  1.56002002e-02 -7.52061005e-03\n",
      " -1.03180094e-02  3.95790802e-03 -6.95522508e-04  8.16718716e-04\n",
      " -1.01745577e-03 -4.56303926e-03 -6.01177626e-04  8.75958339e-05\n",
      "  2.17294019e-02  2.99621661e-04  2.42554311e-03 -5.52839734e-04\n",
      "  4.60500614e-02  1.36925938e-02  1.41360526e-04  1.33670167e-04\n",
      "  4.87513034e-05 -1.40416391e-04 -2.90509099e-04 -1.89161818e-04\n",
      " -1.12280365e-03 -7.84129105e-05  1.58750338e-03 -1.73065880e-02\n",
      "  1.62917011e-03  8.18339174e-04  5.90980053e-04 -2.78670063e-05\n",
      "  2.30999127e-04 -1.41837028e-05 -3.74505584e-04]\n"
     ]
    }
   ],
   "source": [
    "print(weights)"
   ]
  },
  {
   "cell_type": "markdown",
   "metadata": {},
   "source": [
    "## Generate predictions and save ouput in csv format for submission:"
   ]
  },
  {
   "cell_type": "code",
   "execution_count": 14,
   "metadata": {},
   "outputs": [],
   "source": [
    "DATA_TEST_PATH = 'test.csv' # TODO: download test data and supply path here \n",
    "_, tX_test, ids_test = load_csv_data(DATA_TEST_PATH)"
   ]
  },
  {
   "cell_type": "code",
   "execution_count": 35,
   "metadata": {},
   "outputs": [],
   "source": [
    "x_test = standardize_x_te(tX_test,mean_x,std_x)\n",
    "x_test=build_poly(x_test,3)"
   ]
  },
  {
   "cell_type": "code",
   "execution_count": 39,
   "metadata": {},
   "outputs": [],
   "source": [
    "OUTPUT_PATH = 'submission.csv' # TODO: fill in desired name of output file for submission\n",
    "y_pred = predict_labels(weights, x_test)\n",
    "create_csv_submission(ids_test, y_pred, OUTPUT_PATH)"
   ]
  },
  {
   "cell_type": "code",
   "execution_count": 41,
   "metadata": {},
   "outputs": [],
   "source": [
    "from numpy import asarray\n",
    "from numpy import savetxt\n",
    "savetxt('dtessst.csv',x, delimiter=',')"
   ]
  },
  {
   "cell_type": "code",
   "execution_count": null,
   "metadata": {},
   "outputs": [],
   "source": []
  }
 ],
 "metadata": {
  "anaconda-cloud": {},
  "kernelspec": {
   "display_name": "Python 3",
   "language": "python",
   "name": "python3"
  },
  "language_info": {
   "codemirror_mode": {
    "name": "ipython",
    "version": 3
   },
   "file_extension": ".py",
   "mimetype": "text/x-python",
   "name": "python",
   "nbconvert_exporter": "python",
   "pygments_lexer": "ipython3",
   "version": "3.8.3"
  }
 },
 "nbformat": 4,
 "nbformat_minor": 1
}
