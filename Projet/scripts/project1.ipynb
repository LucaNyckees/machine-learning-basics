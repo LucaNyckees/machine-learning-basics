{
 "cells": [
  {
   "cell_type": "code",
   "execution_count": 34,
   "metadata": {},
   "outputs": [
    {
     "name": "stdout",
     "output_type": "stream",
     "text": [
      "The autoreload extension is already loaded. To reload it, use:\n",
      "  %reload_ext autoreload\n"
     ]
    }
   ],
   "source": [
    "# Useful starting lines\n",
    "%matplotlib inline\n",
    "import numpy as np\n",
    "import matplotlib.pyplot as plt\n",
    "%load_ext autoreload\n",
    "%autoreload 2"
   ]
  },
  {
   "cell_type": "markdown",
   "metadata": {},
   "source": [
    "## Load the training data into feature matrix, class labels, and event ids:"
   ]
  },
  {
   "cell_type": "code",
   "execution_count": 43,
   "metadata": {},
   "outputs": [],
   "source": [
    "from helpers import *\n",
    "from implementations import *\n",
    "from cross_validation import *\n",
    "from helper_implementations import *\n",
    "from standardization import *\n",
    "from cleaning_data import *"
   ]
  },
  {
   "cell_type": "code",
   "execution_count": 49,
   "metadata": {},
   "outputs": [],
   "source": [
    "DATA_TRAIN_PATH = 'train.csv' # TODO: download train data and supply path here \n",
    "y, tX, ids = load_csv_data(DATA_TRAIN_PATH)"
   ]
  },
  {
   "cell_type": "code",
   "execution_count": 50,
   "metadata": {},
   "outputs": [
    {
     "name": "stdout",
     "output_type": "stream",
     "text": [
      "(250000,)\n"
     ]
    }
   ],
   "source": [
    "print(y.shape)"
   ]
  },
  {
   "cell_type": "markdown",
   "metadata": {},
   "source": [
    "## Calculate the weights with different methods"
   ]
  },
  {
   "cell_type": "code",
   "execution_count": 86,
   "metadata": {},
   "outputs": [],
   "source": [
    "# Initialization\n",
    "max_iters = 50\n",
    "gamma = 0.3\n",
    "lambda_=0.3\n",
    "initial_w=np.zeros(30)\n",
    "k_fold=4\n",
    "#x=build_poly(tX,8)\n",
    "max_degree=2\n",
    "#print(x.shape)\n",
    "#Pour output un dossier .csv, assurez vous d'avoir train.csv et test.csv dans le même dossier que ce fichier\n",
    "#Remplacer weightsi par weights si vous voulez utiliser la méthode i (i \\in {1,2,3,4})\n",
    "#Lancer les deux dernières cellues, le dossier en output aura le titre submission.csv\n",
    "#weights,_=least_squares_GD(y,x,initial_w,max_iters,gamma)\n",
    "#weights,_=least_squares_SGD(y,tX,initial_w,max_iters,gamma)\n",
    "#weights,_=least_squares(y,x)\n",
    "#weights,_=ridge_regression(y,x,lambda_)\n",
    "#degree,gamma=cross_validation_GD_SGD_LR(y, tX, k_fold,5,np.logspace(-3, -1, 20), max_iters,'SGD')\n",
    "#degree,gamma=cross_validation_GD_SGD_LR(y, x, k_fold, max_degree,np.logspace(-8, -5, 20), max_iters,'LR')\n",
    "#a=cross_validation_LS(y,tX,k_fold,8)\n",
    "#d,l=cross_validation_RR(y, tX, k_fold, 10, np.logspace(-3, 0, 30))\n"
   ]
  },
  {
   "cell_type": "code",
   "execution_count": 56,
   "metadata": {},
   "outputs": [],
   "source": [
    "def transform_x_least_squares(x, deg):\n",
    "    #Replace the -999 in the first column by the mean (without the -999)\n",
    "    x[:, 0][x[:, 0] == -999.0] = np.mean(x[:, 0][x[:, 0] != -999.0])\n",
    "    \n",
    "    #Split the data w.r.t. the number of jets\n",
    "    x_0, x_1, x_23 = split_x(x)\n",
    "    \n",
    "    #Standardization\n",
    "    x_0, x_0_mean, x_0_std = standardize(x_0)\n",
    "    x_1, x_1_mean, x_1_std = standardize(x_1)\n",
    "    x_23, x_23_mean, x_23_std = standardize(x_23)\n",
    "    \n",
    "    #Polynomial expansion\n",
    "    x_0=build_poly(x_0,deg)\n",
    "    x_1=build_poly(x_1,deg)\n",
    "    x_23=build_poly(x_23,deg)\n",
    "    \n",
    "    #Adding ones to the first column\n",
    "    tx_0 = np.c_[np.ones((x_0.shape[0], 1)), x_0]\n",
    "    tx_1 = np.c_[np.ones((x_1.shape[0], 1)), x_1]\n",
    "    tx_23 = np.c_[np.ones((x_23.shape[0], 1)), x_23]\n",
    "    \n",
    "    return tx_0, tx_1, tx_23\n",
    "\n",
    "def transform_y_least_squares(y, x):\n",
    "    \n",
    "    #Split the data w.r.t. the number of jets \n",
    "    y = np.expand_dims(y, axis=1)\n",
    "    y_0, y_1, y_23 = split_y(y, x)\n",
    "    \n",
    "    return y_0, y_1, y_23"
   ]
  },
  {
   "cell_type": "code",
   "execution_count": 87,
   "metadata": {},
   "outputs": [
    {
     "name": "stdout",
     "output_type": "stream",
     "text": [
      "(99913, 19)\n",
      "(77544, 23)\n",
      "(72543, 31)\n",
      "id_ (250000,)\n",
      "y_0 (99913, 1)\n",
      "ypred (250000,)\n",
      "y (250000, 2)\n",
      "(250000,)\n",
      "(568238,)\n"
     ]
    }
   ],
   "source": [
    "tx_0,tx_1,tx_23=transform_x_least_squares(tX,1)\n",
    "y_0,y_1,y_23=transform_y_least_squares(y,tX)\n",
    "\n",
    "\n",
    "#Computing the weights and loss on the training set\n",
    "w_0, loss_w0 = least_squares(y_0, tx_0)\n",
    "w_1, loss_w1 = least_squares(y_1, tx_1)\n",
    "w_23, loss_w2 = least_squares(y_23, tx_23)\n",
    "\n",
    "x_t_0,x_t_1,x_t_23=transform_x_least_squares(tX,1)\n",
    "print(x_t_0.shape)\n",
    "print(x_t_1.shape)\n",
    "print(x_t_23.shape)\n",
    "\n",
    "#Predict weights\n",
    "y_prediction_train = label_regression(w_0,w_1,w_23,x_t_0,x_t_1,x_t_23,tX)\n",
    "print(y_prediction_train.shape)\n",
    "print(ids_test.shape)"
   ]
  },
  {
   "cell_type": "code",
   "execution_count": 82,
   "metadata": {},
   "outputs": [],
   "source": [
    "def compute_accuracy(y, y_prediction):\n",
    "    ''' computes accuracy of a prediction '''\n",
    "    correct = 0.0\n",
    "    for i in range (len(y)):\n",
    "        if(y[i] == y_prediction[i]):\n",
    "            correct += 1\n",
    "    accuracy = correct/len(y)\n",
    "    return accuracy"
   ]
  },
  {
   "cell_type": "code",
   "execution_count": 84,
   "metadata": {},
   "outputs": [
    {
     "data": {
      "text/plain": [
       "0.75976"
      ]
     },
     "execution_count": 84,
     "metadata": {},
     "output_type": "execute_result"
    }
   ],
   "source": [
    "compute_accuracy(y, y_prediction_train)"
   ]
  },
  {
   "cell_type": "code",
   "execution_count": 85,
   "metadata": {},
   "outputs": [
    {
     "data": {
      "text/plain": [
       "0.743976"
      ]
     },
     "execution_count": 85,
     "metadata": {},
     "output_type": "execute_result"
    }
   ],
   "source": [
    "w,_=least_squares(y,tX)\n",
    "y_pred = predict_labels(w,tX)\n",
    "compute_accuracy(y, y_pred)"
   ]
  },
  {
   "cell_type": "markdown",
   "metadata": {},
   "source": [
    "## Generate predictions and save ouput in csv format for submission:"
   ]
  },
  {
   "cell_type": "code",
   "execution_count": 78,
   "metadata": {},
   "outputs": [],
   "source": [
    "DATA_TEST_PATH = 'test.csv' # TODO: download test data and supply path here \n",
    "_, tX_test, ids_test = load_csv_data(DATA_TEST_PATH)"
   ]
  },
  {
   "cell_type": "code",
   "execution_count": 20,
   "metadata": {},
   "outputs": [],
   "source": [
    "x_test = standardize_x_te(tX_test,mean_x,std_x)\n",
    "x_test=build_poly(x_test,8)"
   ]
  },
  {
   "cell_type": "code",
   "execution_count": 21,
   "metadata": {},
   "outputs": [],
   "source": [
    "OUTPUT_PATH = 'submission.csv' # TODO: fill in desired name of output file for submission\n",
    "y_pred = predict_labels(weights, x_test)\n",
    "create_csv_submission(ids_test, y_pred, OUTPUT_PATH)"
   ]
  },
  {
   "cell_type": "code",
   "execution_count": 41,
   "metadata": {},
   "outputs": [],
   "source": [
    "from numpy import asarray\n",
    "from numpy import savetxt\n",
    "savetxt('dtessst.csv',x, delimiter=',')"
   ]
  },
  {
   "cell_type": "code",
   "execution_count": null,
   "metadata": {},
   "outputs": [],
   "source": []
  }
 ],
 "metadata": {
  "anaconda-cloud": {},
  "kernelspec": {
   "display_name": "Python 3",
   "language": "python",
   "name": "python3"
  },
  "language_info": {
   "codemirror_mode": {
    "name": "ipython",
    "version": 3
   },
   "file_extension": ".py",
   "mimetype": "text/x-python",
   "name": "python",
   "nbconvert_exporter": "python",
   "pygments_lexer": "ipython3",
   "version": "3.8.3"
  }
 },
 "nbformat": 4,
 "nbformat_minor": 1
}
