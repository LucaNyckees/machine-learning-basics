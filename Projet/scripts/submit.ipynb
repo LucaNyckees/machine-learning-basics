{
 "cells": [
  {
   "cell_type": "code",
   "execution_count": 2,
   "metadata": {},
   "outputs": [],
   "source": [
    "# Useful starting lines\n",
    "%matplotlib inline\n",
    "import numpy as np\n",
    "import matplotlib.pyplot as plt\n",
    "%load_ext autoreload\n",
    "%autoreload 2"
   ]
  },
  {
   "cell_type": "markdown",
   "metadata": {},
   "source": [
    "This notebook can produce a prediction file for the data of the test set for the six different methods that were required. The cross validation of the hyperparameters of the least square with normal equations and logistic regression can be done at the end of the file."
   ]
  },
  {
   "cell_type": "markdown",
   "metadata": {},
   "source": [
    "## Load the training data into feature matrix, class labels, and event ids:"
   ]
  },
  {
   "cell_type": "code",
   "execution_count": 3,
   "metadata": {},
   "outputs": [],
   "source": [
    "from helpers import *\n",
    "from implementations import *\n",
    "from cleaning_data import *\n",
    "from cross_validation import *"
   ]
  },
  {
   "cell_type": "code",
   "execution_count": 4,
   "metadata": {},
   "outputs": [],
   "source": [
    "DATA_TRAIN_PATH = 'train.csv'\n",
    "DATA_TEST_PATH = 'test.csv' \n",
    "y, tX, ids = load_csv_data(DATA_TRAIN_PATH)\n",
    "_, tX_test, ids_test = load_csv_data(DATA_TEST_PATH)"
   ]
  },
  {
   "cell_type": "markdown",
   "metadata": {},
   "source": [
    "##  Model:"
   ]
  },
  {
   "cell_type": "markdown",
   "metadata": {},
   "source": [
    "To choose the model you will have to do the three essential following tasks: \n",
    "\n",
    "   1) Choose the type of regression: least squares or logistic regression.(To do so put a # in front of the unwanted choice and remove it in front of the wanted choice in the next cell)  \n",
    "   \n",
    "   2) Choose the parameters of the chosen method\n",
    "   \n",
    "   3) Choose the method. (To do so put a # in front of the unwanted choice and remove it in front of the wanted choice in the second next cell)\n",
    "   \n",
    "   4) Be sure to have train.csv and test.csv in the same folder as this file\n",
    "\n",
    "The run.py file and this notebook output with least_squares(y,x) and degree=9 are the same. Be sure to run the cells from the top to the bottom to produce the output file with the name OUTPUT_PATH."
   ]
  },
  {
   "cell_type": "code",
   "execution_count": 18,
   "metadata": {},
   "outputs": [],
   "source": [
    "#Choice of regression------------------------------------------------------------------------------------------\n",
    "\n",
    "#choice='least squares'\n",
    "choice='logistic regression'\n",
    "\n",
    "#Choice of parameters------------------------------------------------------------------------------------------\n",
    "\n",
    "degree=9                       #choice of the degree of the polynomial expansion\n",
    "max_iters=50                   #max number of iterations for GD and SGD\n",
    "gamma=0.0015                   #step size for GD and SGD\n",
    "lambda_=0.001                  #factor of the regularization for the ridge and logistic regression\n",
    "OUTPUT_PATH='submission.csv'   #name of the output file"
   ]
  },
  {
   "cell_type": "code",
   "execution_count": 19,
   "metadata": {},
   "outputs": [
    {
     "data": {
      "text/plain": [
       "0.826704"
      ]
     },
     "execution_count": 19,
     "metadata": {},
     "output_type": "execute_result"
    }
   ],
   "source": [
    "#Cleaning and adapting the data---------------------------------------------------------------------------------\n",
    "\n",
    "x_0,x_1,x_23=adapt_x(tX,degree)\n",
    "if choice=='least squares':\n",
    "    y_0,y_1,y_23=adapt_y_least_squares(y,tX)\n",
    "elif choice=='logistic regression':\n",
    "    y_0,y_1,y_23=adapt_y_logistic(y,tX)\n",
    "else:\n",
    "    raise SyntaxWarning\n",
    "\n",
    "#Computing the weights and loss on the training set-------------------------------------------------------------\n",
    "\n",
    "#Gradient descent\n",
    "#w_0, loss_w0 = least_squares_SGD(y_0, x_0, np.zeros(x_0.shape[1]), max_iters,gamma)\n",
    "#w_1, loss_w1 = least_squares_SGD(y_1, x_1, np.zeros(x_1.shape[1]), max_iters,gamma)\n",
    "#w_23, loss_w2 = least_squares_SGD(y_23, x_23, np.zeros(x_23.shape[1]), max_iters,gamma)\n",
    "\n",
    "#Stochastic gradient descent\n",
    "#w_0, loss_w0 = least_squares_SGD(y_0, x_0, np.zeros(x_0.shape[1]), max_iters,gamma)\n",
    "#w_1, loss_w1 = least_squares_SGD(y_1, x_1, np.zeros(x_1.shape[1]), max_iters,gamma)\n",
    "#w_23, loss_w2 = least_squares_SGD(y_23, x_23, np.zeros(x_23.shape[1]), max_iters,gamma)\n",
    "\n",
    "#Least squares with normal equations\n",
    "w_0, loss_w0 = least_squares(y_0, x_0)\n",
    "w_1, loss_w1 = least_squares(y_1, x_1)\n",
    "w_23, loss_w2 = least_squares(y_23, x_23)\n",
    "\n",
    "#Ridge regression\n",
    "#w_0, loss_w0 = ridge_regression(y_0, x_0, lambda_)\n",
    "#w_1, loss_w1 = ridge_regression(y_1, x_1, lambda_)\n",
    "#w_23, loss_w2 = ridge_regression(y_23, x_23, lambda_)\n",
    "\n",
    "#Logistic regression\n",
    "#w_0, loss_w0 = logistic_regression(y_0, x_0, np.zeros(x_0.shape[1]), max_iters,gamma)\n",
    "#w_1, loss_w1 = logistic_regression(y_1, x_1, np.zeros(x_1.shape[1]), max_iters,gamma)\n",
    "#w_23, loss_w2 = logistic_regression(y_23, x_23, np.zeros(x_23.shape[1]), max_iters,gamma)\n",
    "\n",
    "#Regularized logistic regression\n",
    "#w_0, loss_w0 = reg_logistic_regression(y_0, x_0, lambda_, np.zeros(x_0.shape[1]), max_iters,gamma)\n",
    "#w_1, loss_w1 = reg_logistic_regression(y_1, x_1, lambda_, np.zeros(x_1.shape[1]), max_iters,gamma)\n",
    "#w_23, loss_w2 = reg_logistic_regression(y_23, x_23, lambda_, np.zeros(x_23.shape[1]), max_iters,gamma)\n",
    "\n",
    "#Predict on the train set----------------------------------------------------------------------------------------\n",
    "\n",
    "y_pred_tr = label(w_0,w_1,w_23,x_0,x_1,x_23,tX,choice)\n",
    "compute_accuracy(y, y_pred_tr)"
   ]
  },
  {
   "cell_type": "markdown",
   "metadata": {},
   "source": [
    "##  Create the submission file:"
   ]
  },
  {
   "cell_type": "code",
   "execution_count": 12,
   "metadata": {},
   "outputs": [],
   "source": [
    "#Cleaning and adapting the data----------------------------------------------------------------------------------\n",
    "x_0_te,x_1_te,x_23_te=adapt_x(tX_test,degree)\n",
    "\n",
    "#Predict on the test set-----------------------------------------------------------------------------------------\n",
    "y_pred_te=label(w_0,w_1,w_23,x_0_te,x_1_te,x_23_te,tX_test,choice)\n",
    "create_csv_submission(ids_test, y_pred_te, OUTPUT_PATH)"
   ]
  },
  {
   "cell_type": "markdown",
   "metadata": {},
   "source": [
    "## Cross validation:"
   ]
  },
  {
   "cell_type": "markdown",
   "metadata": {},
   "source": [
    "The cross validation of the hyperparameters has been explicitely coded only for the least square with normal equations and the logistic regression. However the code can be easily adapted to the others method only by changing the name of the method in the cross_validation.py file. For one parameter validation, please modify the function cross_val_LS and for two parameters validation please modify the function cross_val_Log.\n",
    "\n",
    "Every cross validation will be done with 5 folds.\n",
    "\n",
    "The cross_val_LS takes the raw data and the maximum degree of the polynomial extension you want to test as input. The output is a boxplot of the accuracy on each fold for each degree from 1 to max_degree.\n",
    "\n",
    "The cross_val_Log takes the raw data, the maximum degree of the polynomial extension you want to test and the different gamma you want to test (as an array) as input. The output  is a max_degree\\*len(gamma)\\*2 array where the element [d,i,0] is the mean of the accuracy on the k folds for degree d and gamma gamma[i] and [d,i,1] is the std of the accuracy on the k folds for degree d and gamma[i]. Keep in mind that this method is quite slow.\n",
    "\n",
    "In both case, the choice of the hyperparameters has to be done with a grid search on the output or by manually check the result."
   ]
  },
  {
   "cell_type": "code",
   "execution_count": 5,
   "metadata": {},
   "outputs": [
    {
     "data": {
      "image/png": "[encoded data removed]",
      "text/plain": [
       "<Figure size 432x288 with 1 Axes>"
      ]
     },
     "metadata": {
      "needs_background": "light"
     },
     "output_type": "display_data"
    }
   ],
   "source": [
    "#Cross validation for the least square method\n",
    "max_degree=12\n",
    "k_fold=5\n",
    "cross_val_LS(y,tX,k_fold,max_degree)"
   ]
  },
  {
   "cell_type": "code",
   "execution_count": 5,
   "metadata": {},
   "outputs": [
    {
     "name": "stderr",
     "output_type": "stream",
     "text": [
      "/Users/raphaelmirallie/Documents/EPFL/aMA_1/Machine_learning/ML_Project1/Projet/scripts/helper_implementations.py:38: RuntimeWarning: divide by zero encountered in log\n",
      "  loss=y.T.dot(np.log(pred)) + (1-y).T.dot(np.log(1-pred))\n",
      "/Users/raphaelmirallie/Documents/EPFL/aMA_1/Machine_learning/ML_Project1/Projet/scripts/implementations.py:51: RuntimeWarning: invalid value encountered in double_scalars\n",
      "  if len(losses) > 1 and np.abs(losses[-1] - losses[-2]) < treshold:\n",
      "/Users/raphaelmirallie/Documents/EPFL/aMA_1/Machine_learning/ML_Project1/Projet/scripts/helper_implementations.py:33: RuntimeWarning: overflow encountered in exp\n",
      "  return 1.0/(1+np.exp(-t))\n"
     ]
    },
    {
     "name": "stdout",
     "output_type": "stream",
     "text": [
      "[[[7.16643000e-01 5.73293991e-04]\n",
      "  [7.25841000e-01 3.54815445e-04]\n",
      "  [7.31998000e-01 2.12758079e-04]\n",
      "  [7.34477000e-01 2.33293806e-04]\n",
      "  [7.35289000e-01 2.73667682e-04]\n",
      "  [7.35703000e-01 2.70492144e-04]\n",
      "  [7.35799000e-01 2.82549111e-04]\n",
      "  [7.35831000e-01 2.70285035e-04]\n",
      "  [7.35839000e-01 2.70580857e-04]\n",
      "  [7.35838000e-01 2.74492259e-04]\n",
      "  [7.35841000e-01 2.75778897e-04]\n",
      "  [7.35843000e-01 2.76398263e-04]]\n",
      "\n",
      " [[6.65272000e-01 3.96693837e-04]\n",
      "  [6.66586000e-01 3.83567465e-04]\n",
      "  [6.67030000e-01 3.80013158e-04]\n",
      "  [6.67142000e-01 3.70602213e-04]\n",
      "  [6.67168000e-01 3.68274354e-04]\n",
      "  [6.67176000e-01 3.71784884e-04]\n",
      "  [6.67180000e-01 3.66510573e-04]\n",
      "  [6.67183000e-01 3.67023160e-04]\n",
      "  [6.67184000e-01 3.65162977e-04]\n",
      "  [6.67184000e-01 3.65162977e-04]\n",
      "  [6.67184000e-01 3.65162977e-04]\n",
      "  [6.67184000e-01 3.65162977e-04]]\n",
      "\n",
      " [[6.43788000e-01 2.37994664e-03]\n",
      "  [6.43507000e-01 2.42760911e-03]\n",
      "  [6.43539000e-01 2.48056123e-03]\n",
      "  [6.43548000e-01 2.49802442e-03]\n",
      "  [6.43544000e-01 2.49737342e-03]\n",
      "  [6.43544000e-01 2.49722126e-03]\n",
      "  [6.43547000e-01 2.49578565e-03]\n",
      "  [6.43547000e-01 2.50301139e-03]\n",
      "  [6.43553000e-01 2.50161668e-03]\n",
      "  [6.43550000e-01 2.49780303e-03]\n",
      "  [6.43548000e-01 2.49875289e-03]\n",
      "  [6.43544000e-01 2.50077868e-03]]]\n"
     ]
    }
   ],
   "source": [
    "#Cross validation for the logistic regression method\n",
    "#Second warning: this method can take a lot of time\n",
    "max_degree=3\n",
    "k_fold=5\n",
    "gamma=np.logspace(-6,-1,12)\n",
    "print(cross_val_Log(y,tX,k_fold,max_degree,gamma))"
   ]
  },
  {
   "cell_type": "code",
   "execution_count": 6,
   "metadata": {},
   "outputs": [
    {
     "name": "stdout",
     "output_type": "stream",
     "text": [
      "[1.00000000e-06 2.84803587e-06 8.11130831e-06 2.31012970e-05\n",
      " 6.57933225e-05 1.87381742e-04 5.33669923e-04 1.51991108e-03\n",
      " 4.32876128e-03 1.23284674e-02 3.51119173e-02 1.00000000e-01]\n"
     ]
    }
   ],
   "source": [
    "print(np.logspace(-6,-1,12))\n"
   ]
  },
  {
   "cell_type": "code",
   "execution_count": null,
   "metadata": {},
   "outputs": [],
   "source": []
  }
 ],
 "metadata": {
  "kernelspec": {
   "display_name": "Python 3",
   "language": "python",
   "name": "python3"
  },
  "language_info": {
   "codemirror_mode": {
    "name": "ipython",
    "version": 3
   },
   "file_extension": ".py",
   "mimetype": "text/x-python",
   "name": "python",
   "nbconvert_exporter": "python",
   "pygments_lexer": "ipython3",
   "version": "3.8.3"
  }
 },
 "nbformat": 4,
 "nbformat_minor": 4
}
