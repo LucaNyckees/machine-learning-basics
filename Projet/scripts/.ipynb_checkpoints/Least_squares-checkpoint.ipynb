{
 "cells": [
  {
   "cell_type": "code",
   "execution_count": 1,
   "metadata": {},
   "outputs": [],
   "source": [
    "# Useful starting lines\n",
    "%matplotlib inline\n",
    "import numpy as np\n",
    "import matplotlib.pyplot as plt\n",
    "%load_ext autoreload\n",
    "%autoreload 2"
   ]
  },
  {
   "cell_type": "markdown",
   "metadata": {},
   "source": [
    "## Load the training data into feature matrix, class labels, and event ids:"
   ]
  },
  {
   "cell_type": "code",
   "execution_count": 54,
   "metadata": {},
   "outputs": [],
   "source": [
    "from helpers import *\n",
    "from implementations import *\n",
    "from cleaning_data import *"
   ]
  },
  {
   "cell_type": "code",
   "execution_count": 3,
   "metadata": {},
   "outputs": [],
   "source": [
    "DATA_TRAIN_PATH = 'train.csv'\n",
    "DATA_TEST_PATH = 'test.csv' \n",
    "y, tX, ids = load_csv_data(DATA_TRAIN_PATH)\n",
    "_, tX_test, ids_test = load_csv_data(DATA_TEST_PATH)"
   ]
  },
  {
   "cell_type": "markdown",
   "metadata": {},
   "source": [
    "##  Model:"
   ]
  },
  {
   "cell_type": "raw",
   "metadata": {},
   "source": [
    "This notebook can produce a prediction file of the test set for the four different least squares method that were required. The cross validation of the hyperparameters is not covered in this file.\n",
    "\n",
    "To do so, you will have to choose one of the following method:\n",
    "\n",
    "-least_squares_GD(y_i, x_i, np.zeros(x_i.shape[1]), max_iters,gamma)\n",
    "-least_squares_SGD(y_i, x_i, np.zeros(x_i.shape[1]), max_iters,gamma)\n",
    "-least_squares(y_, x_i)\n",
    "-ridge_regression(y_i, x_i, lambda_)\n",
    "\n",
    "and replace the former method under the section \"#Computing the weights and loss on the training set\" two cells from this one by the one you chose. Be sure to replace x_i by x_0,x_1 and x_23 and y_i by y_0,y_1 and y_23 for the corresponding lines.\n",
    "You can then choose the parameters you want in the next cell.\n",
    "\n",
    "The run.py file and this notebook output with least_squares(y,x) and degree=8 are the same. \n",
    "\n",
    "Be sure to run the cells from the top to the bottom to produce the output file with the name OUTPUT_PATH."
   ]
  },
  {
   "cell_type": "code",
   "execution_count": 59,
   "metadata": {},
   "outputs": [],
   "source": [
    "#Choice of parameters\n",
    "degree=1                      #choice of the degree of the polynomial expansion\n",
    "max_iters=500                 #max number of iterations for GD and SGD\n",
    "gamma=0.07                    #step size for GD and SGD\n",
    "lambda_=0.01                  #factor of the regularization for the ridge regression\n",
    "OUTPUT_PATH='submission.csv'  "
   ]
  },
  {
   "cell_type": "code",
   "execution_count": 60,
   "metadata": {},
   "outputs": [
    {
     "data": {
      "text/plain": [
       "0.5283"
      ]
     },
     "execution_count": 60,
     "metadata": {},
     "output_type": "execute_result"
    }
   ],
   "source": [
    "#Cleaning and adapting the data\n",
    "x_0,x_1,x_23=adapt_x_least_squares(tX,degree)\n",
    "y_0,y_1,y_23=adapt_y_least_squares(y,tX)\n",
    "\n",
    "#Computing the weights and loss on the training set\n",
    "w_0, loss_w0 = least_squares_SGD(y_0, x_0, np.zeros(x_0.shape[1]), max_iters,gamma)\n",
    "w_1, loss_w1 = least_squares_SGD(y_1, x_1, np.zeros(x_1.shape[1]), max_iters,gamma)\n",
    "w_23, loss_w2 = least_squares_SGD(y_23, x_23, np.zeros(x_23.shape[1]), max_iters,gamma)\n",
    "\n",
    "#Predict on the train set\n",
    "y_pred_tr = label_regression(w_0,w_1,w_23,x_0,x_1,x_23,tX)\n",
    "compute_accuracy(y, y_pred_tr)"
   ]
  },
  {
   "cell_type": "markdown",
   "metadata": {},
   "source": [
    "##  Create the submission file:"
   ]
  },
  {
   "cell_type": "code",
   "execution_count": 61,
   "metadata": {},
   "outputs": [],
   "source": [
    "#Cleaning and adapting the data\n",
    "x_0_te,x_1_te,x_23_te=adapt_x_least_squares(tX_test,degree)\n",
    "\n",
    "#Predict on the test set\n",
    "y_pred_te=label_regression(w_0,w_1,w_23,x_0_te,x_1_te,x_23_te,tX_test)\n",
    "create_csv_submission(ids_test, y_pred_te, OUTPUT_PATH)"
   ]
  },
  {
   "cell_type": "code",
   "execution_count": null,
   "metadata": {},
   "outputs": [],
   "source": []
  }
 ],
 "metadata": {
  "kernelspec": {
   "display_name": "Python 3",
   "language": "python",
   "name": "python3"
  },
  "language_info": {
   "codemirror_mode": {
    "name": "ipython",
    "version": 3
   },
   "file_extension": ".py",
   "mimetype": "text/x-python",
   "name": "python",
   "nbconvert_exporter": "python",
   "pygments_lexer": "ipython3",
   "version": "3.8.3"
  }
 },
 "nbformat": 4,
 "nbformat_minor": 4
}
